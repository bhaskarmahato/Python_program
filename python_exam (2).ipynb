{
  "cells": [
    {
      "cell_type": "code",
      "execution_count": 26,
      "metadata": {
        "colab": {
          "base_uri": "https://localhost:8080/"
        },
        "id": "Z_aLiAcL4KWv",
        "outputId": "dc1e3193-1513-4f01-9cd9-d71e2f06f2cc"
      },
      "outputs": [
        {
          "output_type": "stream",
          "name": "stdout",
          "text": [
            "{'a': 0, 'e': 1, 'i': 0, 'o': 2, 'u': 0}\n"
          ]
        }
      ],
      "source": [
        "def count_vowels(input_string):\n",
        "\n",
        "    input_string = input_string.lower()\n",
        "    vowels = {'a': 0, 'e': 0, 'i': 0, 'o': 0, 'u': 0}\n",
        "\n",
        "    for char in input_string:\n",
        "\n",
        "        if char in vowels:\n",
        "            vowels[char] += 1\n",
        "\n",
        "    return vowels\n",
        "result = count_vowels(\"Hello World\")\n",
        "print(result)\n",
        "\n",
        "\n"
      ]
    },
    {
      "cell_type": "code",
      "source": [
        "def is_prime(n):\n",
        "    if n < 2:\n",
        "        return False\n",
        "    for i in range(2, int(n ** 0.5) + 1):\n",
        "        if n % i == 0:\n",
        "            return False\n",
        "    return True\n",
        "\n",
        "def filter_primes(int_list):\n",
        "\n",
        "    return [num for num in int_list if is_prime(num)]\n",
        "\n",
        "result = filter_primes([2, 3, 4, 5, 6, 7, 8, 9, 10])\n",
        "print(result)\n"
      ],
      "metadata": {
        "colab": {
          "base_uri": "https://localhost:8080/"
        },
        "id": "TVQ1I-U-_pcR",
        "outputId": "7ca3e2b1-71c7-42e2-a988-bbd9f5b982ca"
      },
      "execution_count": 22,
      "outputs": [
        {
          "output_type": "stream",
          "name": "stdout",
          "text": [
            "[2, 3, 5, 7]\n"
          ]
        }
      ]
    },
    {
      "cell_type": "markdown",
      "source": [],
      "metadata": {
        "id": "s9plfwoTCfdT"
      }
    },
    {
      "cell_type": "markdown",
      "source": [],
      "metadata": {
        "id": "9vJj7g5CCiN_"
      }
    },
    {
      "cell_type": "code",
      "source": [
        "def sort_by_second_element(tuple_list):\n",
        "\n",
        "    return sorted(tuple_list, key=lambda x: x[1])\n",
        "\n",
        "result = sort_by_second_element([(1, 3), (4, 2), (2, 5), (3, 1)])\n",
        "print(result)\n"
      ],
      "metadata": {
        "colab": {
          "base_uri": "https://localhost:8080/"
        },
        "id": "6OLUQ0SeAd9k",
        "outputId": "be89fcfc-6716-4cb1-9173-9eb6cc8560bc"
      },
      "execution_count": 15,
      "outputs": [
        {
          "output_type": "stream",
          "name": "stdout",
          "text": [
            "[(3, 1), (4, 2), (1, 3), (2, 5)]\n"
          ]
        }
      ]
    },
    {
      "cell_type": "markdown",
      "metadata": {
        "id": "HO7lHH2W4Rhf"
      },
      "source": []
    }
  ],
  "metadata": {
    "colab": {
      "provenance": []
    },
    "kernelspec": {
      "display_name": "Python 3",
      "name": "python3"
    },
    "language_info": {
      "name": "python"
    }
  },
  "nbformat": 4,
  "nbformat_minor": 0
}