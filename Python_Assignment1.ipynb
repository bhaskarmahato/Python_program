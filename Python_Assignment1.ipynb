{
  "nbformat": 4,
  "nbformat_minor": 0,
  "metadata": {
    "colab": {
      "provenance": []
    },
    "kernelspec": {
      "name": "python3",
      "display_name": "Python 3"
    },
    "language_info": {
      "name": "python"
    }
  },
  "cells": [
    {
      "cell_type": "markdown",
      "source": [
        "**1.Take two integer numbers and return their product. If the product is greater than 1000, then return their sum if product is less than 1000 return product value only.**"
      ],
      "metadata": {
        "id": "L_tM336tjg5Y"
      }
    },
    {
      "cell_type": "code",
      "execution_count": 6,
      "metadata": {
        "colab": {
          "base_uri": "https://localhost:8080/"
        },
        "id": "2aIHRg2NjLgV",
        "outputId": "9fd042f3-f791-4104-c971-d150a56bd045"
      },
      "outputs": [
        {
          "output_type": "stream",
          "name": "stdout",
          "text": [
            "product of a and b: 30000\n",
            "sum of a and b: 400\n",
            "sum value is: 400\n"
          ]
        }
      ],
      "source": [
        "a = 100\n",
        "b = 300\n",
        "product = a * b\n",
        "print(\"product of a and b:\",product)\n",
        "sum = a + b\n",
        "print(\"sum of a and b:\",sum)\n",
        "if product > 1000:\n",
        "    print(\"sum value is:\",sum)\n",
        "elif product < 1000:\n",
        "    print(\"product value is:\",product)"
      ]
    },
    {
      "cell_type": "markdown",
      "source": [
        "**2.Given a range of the first 10 numbers, Iterate from the start number to the end number, and In each iteration print the sum of the current number and previous number.**\n",
        "\n",
        "Expected output:\n",
        "-----------------\n",
        "Printing current and previous number sum in a range(10)\n",
        "Current Number 0 Previous Number  0  Sum:  0\n",
        "Current Number 1 Previous Number  0  Sum:  1\n",
        "Current Number 2 Previous Number  1  Sum:  3\n",
        "Current Number 3 Previous Number  2  Sum:  5\n",
        "Current Number 4 Previous Number  3  Sum:  7\n",
        "Current Number 5 Previous Number  4  Sum:  9\n",
        "Current Number 6 Previous Number  5  Sum:  11\n",
        "Current Number 7 Previous Number  6  Sum:  13\n",
        "Current Number 8 Previous Number  7  Sum:  15\n",
        "Current Number 9 Previous Number  8  Sum:  17"
      ],
      "metadata": {
        "id": "hinYMWRjk5vs"
      }
    },
    {
      "cell_type": "code",
      "source": [
        "cur_no = 10\n",
        "previous_no = 0\n",
        "for i in range(0,cur_no):\n",
        "    sum = i + previous_no\n",
        "    print(\"current number\",i,\"previous number\",previous_no,\"Sum:\",sum)\n",
        "    previous_no = i"
      ],
      "metadata": {
        "colab": {
          "base_uri": "https://localhost:8080/"
        },
        "id": "VvOnp794lCGE",
        "outputId": "9e75870a-86d1-4fc5-8bcd-9c16f78746e3"
      },
      "execution_count": 9,
      "outputs": [
        {
          "output_type": "stream",
          "name": "stdout",
          "text": [
            "current number 0 previous number 0 Sum: 0\n",
            "current number 1 previous number 0 Sum: 1\n",
            "current number 2 previous number 1 Sum: 3\n",
            "current number 3 previous number 2 Sum: 5\n",
            "current number 4 previous number 3 Sum: 7\n",
            "current number 5 previous number 4 Sum: 9\n",
            "current number 6 previous number 5 Sum: 11\n",
            "current number 7 previous number 6 Sum: 13\n",
            "current number 8 previous number 7 Sum: 15\n",
            "current number 9 previous number 8 Sum: 17\n"
          ]
        }
      ]
    },
    {
      "cell_type": "code",
      "source": [],
      "metadata": {
        "id": "4dResjx18B5f"
      },
      "execution_count": null,
      "outputs": []
    },
    {
      "cell_type": "markdown",
      "source": [
        "**3.Given a string and an integer number n, remove characters from a string starting from zero up to n and return a new string**\n",
        "\n",
        "Example :\n",
        "(\"pynative\", 4) so output must be tive.\n",
        "\n",
        "Note: n must be less than the length of the string."
      ],
      "metadata": {
        "id": "pKxWoX7m8OTF"
      }
    },
    {
      "cell_type": "code",
      "source": [
        "# using len and index i did this based on example and note\n",
        "strn = \"pynative\"\n",
        "n = 4\n",
        "print(strn[n:])"
      ],
      "metadata": {
        "colab": {
          "base_uri": "https://localhost:8080/"
        },
        "id": "aOE9UcS88ZFu",
        "outputId": "87116890-2c23-4bf5-fe8c-f5b54c591c57"
      },
      "execution_count": 10,
      "outputs": [
        {
          "output_type": "stream",
          "name": "stdout",
          "text": [
            "tive\n"
          ]
        }
      ]
    },
    {
      "cell_type": "markdown",
      "source": [
        "**4.Given a list of numbers, return True if first and last number of a list is same**\n",
        "Expected Output:\n",
        "-------------------------------------\n",
        "\n",
        "Given list is\n",
        "a =  [10, 20, 30, 40, 10]\n",
        "b = [10 , 20 , 30 , 40, 10 ]\n",
        "result is True\n",
        "\n",
        "Given list is  \n",
        "a = [10, 20, 30, 40, 50]\n",
        "b = [11 , 21 , 31 , 41 , 51 ]\n",
        "result is False"
      ],
      "metadata": {
        "id": "XIWOLNoz8rkw"
      }
    },
    {
      "cell_type": "code",
      "source": [
        "a =  [10, 20, 30, 40, 10]\n",
        "b = [10 , 20 , 30 , 40, 10 ]\n",
        "# using index in lists\n",
        "if a[0] == a[4]:\n",
        "    print(\" True\")\n",
        "else:\n",
        "    print(\"first and last number of a list is not same \")"
      ],
      "metadata": {
        "colab": {
          "base_uri": "https://localhost:8080/"
        },
        "id": "ivV_O4YN9Egb",
        "outputId": "8684c5a7-5475-4395-f706-54449989b85a"
      },
      "execution_count": 11,
      "outputs": [
        {
          "output_type": "stream",
          "name": "stdout",
          "text": [
            " True\n"
          ]
        }
      ]
    },
    {
      "cell_type": "code",
      "source": [
        "a = [10, 20, 30, 40, 50]\n",
        "b = [11 , 21 , 31 , 41 , 51 ]\n",
        "# using index in lists\n",
        "if b[0] == b[4]:\n",
        "    print(\" True\")\n",
        "else:\n",
        "    print(\"False \")"
      ],
      "metadata": {
        "colab": {
          "base_uri": "https://localhost:8080/"
        },
        "id": "sd_bw_fw9M4q",
        "outputId": "e3642266-3813-4c27-fdd7-197a11d3d37c"
      },
      "execution_count": 12,
      "outputs": [
        {
          "output_type": "stream",
          "name": "stdout",
          "text": [
            "False \n"
          ]
        }
      ]
    },
    {
      "cell_type": "markdown",
      "source": [
        "**5.# Given a two Python list. Iterate both lists simultaneously such that list1 should display item in original order and list2 in reverse order**\n",
        "\n",
        "list1 = [10, 20, 30, 40]\n",
        "list2 = [100, 200, 300, 400]\n",
        "\n",
        "\n",
        "Expected output:\n",
        "-----------------\n",
        "10 400\n",
        "20 300\n",
        "30 200\n",
        "40 100"
      ],
      "metadata": {
        "id": "T3Dnjvj49i_m"
      }
    },
    {
      "cell_type": "code",
      "source": [
        "# zip going to take 2 list at same time\n",
        "list1 = [10, 20, 30, 40]\n",
        "list2 = [100, 200, 300, 400]\n",
        "for i,j in zip(list1,list2[::-1]):\n",
        "    print(i,j)\n",
        ""
      ],
      "metadata": {
        "colab": {
          "base_uri": "https://localhost:8080/"
        },
        "id": "2SUefg0r9tHr",
        "outputId": "27fadc56-f911-4749-b798-081d2c9374de"
      },
      "execution_count": 13,
      "outputs": [
        {
          "output_type": "stream",
          "name": "stdout",
          "text": [
            "10 400\n",
            "20 300\n",
            "30 200\n",
            "40 100\n"
          ]
        }
      ]
    },
    {
      "cell_type": "markdown",
      "source": [
        "**6.Remove empty strings from the list of strings**\n",
        "list1 = [\"Mike\", \"\", \"Emma\", \"Kelly\", \"\", \"Brad\"]\n",
        "\n",
        "Expected output:\n",
        "----------------------\n",
        "[\"Mike\", \"Emma\", \"Kelly\", \"Brad\"]"
      ],
      "metadata": {
        "id": "8UJHOiLT-FDC"
      }
    },
    {
      "cell_type": "code",
      "source": [
        "list1 = [\"Mike\", \"\", \"Emma\", \"Kelly\", \"\", \"Brad\"]\n",
        "result = []\n",
        "for i in list1:\n",
        "    if i in \" \":\n",
        "        pass\n",
        "    else:\n",
        "        result.append(i)\n",
        "print(result)"
      ],
      "metadata": {
        "colab": {
          "base_uri": "https://localhost:8080/"
        },
        "id": "20vvV3FO-Yjt",
        "outputId": "d11d6336-2624-4a55-e05d-d33c1787dcb1"
      },
      "execution_count": 14,
      "outputs": [
        {
          "output_type": "stream",
          "name": "stdout",
          "text": [
            "['Mike', 'Emma', 'Kelly', 'Brad']\n"
          ]
        }
      ]
    }
  ]
}