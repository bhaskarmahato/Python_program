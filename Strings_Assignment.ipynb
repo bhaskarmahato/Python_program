{
  "cells": [
    {
      "cell_type": "markdown",
      "metadata": {
        "id": "d4JfJl13BT6h"
      },
      "source": [
        "***Question 1: Write a Python program to count the number of characters in a string without using len function.***"
      ]
    },
    {
      "cell_type": "code",
      "execution_count": null,
      "metadata": {
        "colab": {
          "base_uri": "https://localhost:8080/"
        },
        "id": "XL0MreFMBX2F",
        "outputId": "3baf63ae-5d6f-4dd8-8d50-d33f91eb88c8"
      },
      "outputs": [
        {
          "name": "stdout",
          "output_type": "stream",
          "text": [
            "12\n"
          ]
        }
      ],
      "source": [
        "a = 'Data Science'\n",
        "count = 0\n",
        "for i in a:\n",
        "    count = count +1\n",
        "print(count)"
      ]
    },
    {
      "cell_type": "markdown",
      "metadata": {
        "id": "_3wGK_XTCHIT"
      },
      "source": [
        "***Question 2: Write a Python program to reverse a string without using [::-1]***"
      ]
    },
    {
      "cell_type": "code",
      "execution_count": null,
      "metadata": {
        "colab": {
          "base_uri": "https://localhost:8080/"
        },
        "id": "A8VmHk6JCcSh",
        "outputId": "8b7d9da0-741f-4453-a4a9-8258b538f01b"
      },
      "outputs": [
        {
          "name": "stdout",
          "output_type": "stream",
          "text": [
            "Original string: Data\n",
            "Reversed string: ataD\n"
          ]
        }
      ],
      "source": [
        "def reverse_string(s):\n",
        "    reversed_s = ''\n",
        "    for char in s:\n",
        "        reversed_s = char + reversed_s\n",
        "    return reversed_s\n",
        "\n",
        "# Given string\n",
        "original_string = \"Data\"\n",
        "\n",
        "reversed_string = reverse_string(original_string)\n",
        "print(\"Original string:\", original_string)\n",
        "print(\"Reversed string:\", reversed_string)\n"
      ]
    },
    {
      "cell_type": "markdown",
      "metadata": {
        "id": "c6c2F3ckPbeW"
      },
      "source": [
        "***Question 3: Write a Python program to check if a string is a palindrome don't use [::-1].***"
      ]
    },
    {
      "cell_type": "code",
      "source": [
        "def is_palindrome(s):\n",
        "    s = s.lower()\n",
        "    left, right = 0, len(s) - 1\n",
        "\n",
        "    while left < right:\n",
        "        if s[left] != s[right]:\n",
        "            return False\n",
        "        left += 1\n",
        "        right -= 1\n",
        "\n",
        "    return True\n",
        "\n",
        "input_string = \"Anna\"\n",
        "if is_palindrome(input_string):\n",
        "    print(f\"'{input_string}' is a palindrome\")\n",
        "else:\n",
        "    print(f\"'{input_string}' is not a palindrome\")\n",
        "\n",
        "\n"
      ],
      "metadata": {
        "colab": {
          "base_uri": "https://localhost:8080/"
        },
        "id": "e6kzgMxaGfEN",
        "outputId": "666ea9a5-5cd8-4b8b-de2a-63b7034b87ff"
      },
      "execution_count": 19,
      "outputs": [
        {
          "output_type": "stream",
          "name": "stdout",
          "text": [
            "'Anna' is a palindrome\n"
          ]
        }
      ]
    },
    {
      "cell_type": "markdown",
      "source": [
        "***Question 4: Write a Python program to find the most common character in a string.***"
      ],
      "metadata": {
        "id": "VHWmWv262Ghh"
      }
    },
    {
      "cell_type": "code",
      "source": [
        "from collections import Counter\n",
        "\n",
        "char = \"Hello I am here\"\n",
        "character = Counter(char)\n",
        "print(f'The most common character: {character.most_common(1)}')\n"
      ],
      "metadata": {
        "colab": {
          "base_uri": "https://localhost:8080/"
        },
        "id": "SwkKX4j52Z2n",
        "outputId": "7641de09-cd6f-48ae-8504-1339492cfaf5"
      },
      "execution_count": null,
      "outputs": [
        {
          "output_type": "stream",
          "name": "stdout",
          "text": [
            "The most common character: [('e', 3)]\n"
          ]
        }
      ]
    },
    {
      "cell_type": "markdown",
      "source": [
        "***Question 5: Write a Python program to check if two strings are anagrams.***"
      ],
      "metadata": {
        "id": "fMkVMTNy7M1W"
      }
    },
    {
      "cell_type": "code",
      "source": [
        "# anagrams have same no of character but the order of character can be different\n",
        "\n",
        "def check(a,b):\n",
        "    if sorted(a)==sorted(b):\n",
        "        print(\"the strings are anagrams\")\n",
        "    else:\n",
        "        print(\"the strings are not anagrams\")\n",
        "\n",
        "a = 'bads'\n",
        "b = 'dads'\n",
        "check(a,b)"
      ],
      "metadata": {
        "id": "na7l47i5vVD9",
        "colab": {
          "base_uri": "https://localhost:8080/"
        },
        "outputId": "49464fd0-18d3-43bd-d8a6-4a9d72a1050a"
      },
      "execution_count": 20,
      "outputs": [
        {
          "output_type": "stream",
          "name": "stdout",
          "text": [
            "the strings are not anagrams\n"
          ]
        }
      ]
    },
    {
      "cell_type": "code",
      "source": [
        "a = 'silent'\n",
        "b = 'listen'\n",
        "if sorted(a)==sorted(b):\n",
        "    print(\"the strings are anagrams\")\n",
        "else:\n",
        "    print(\"the strings are not anagrams\")"
      ],
      "metadata": {
        "colab": {
          "base_uri": "https://localhost:8080/"
        },
        "id": "_f61nkof70Q3",
        "outputId": "a776cb8c-698b-447c-f0e2-918156c44485"
      },
      "execution_count": 21,
      "outputs": [
        {
          "output_type": "stream",
          "name": "stdout",
          "text": [
            "the strings are anagrams\n"
          ]
        }
      ]
    },
    {
      "cell_type": "markdown",
      "source": [
        "***Question 6: Write a Python program to remove all the vowels from a string.***"
      ],
      "metadata": {
        "id": "6P8-YMZs78Rv"
      }
    },
    {
      "cell_type": "code",
      "source": [
        "a = \"Data science\"\n",
        "for i in a:\n",
        "    if i not in 'AEIOUaeiou':\n",
        "        print(i,end=\" \")"
      ],
      "metadata": {
        "colab": {
          "base_uri": "https://localhost:8080/"
        },
        "id": "oXI82oKu8Fjq",
        "outputId": "2ec1e530-d99e-442b-faf3-40561e710cef"
      },
      "execution_count": null,
      "outputs": [
        {
          "output_type": "stream",
          "name": "stdout",
          "text": [
            "D t   s c n c "
          ]
        }
      ]
    },
    {
      "cell_type": "markdown",
      "source": [
        "***Question 7: Write a Python program to find the longest word in a string.***"
      ],
      "metadata": {
        "id": "PiZAex5u8YGN"
      }
    },
    {
      "cell_type": "code",
      "source": [
        "str = \"Success consists of going from failure to failure without loss of enthusiasm\"\n",
        "words = str.split()\n",
        "longest_word =max(words,key=len)\n",
        "print(longest_word)"
      ],
      "metadata": {
        "id": "Ar_1Pr958-Nx",
        "colab": {
          "base_uri": "https://localhost:8080/"
        },
        "outputId": "dd519bdf-f06c-4c81-ff87-3e27509a0357"
      },
      "execution_count": null,
      "outputs": [
        {
          "output_type": "stream",
          "name": "stdout",
          "text": [
            "enthusiasm\n"
          ]
        }
      ]
    },
    {
      "cell_type": "markdown",
      "source": [
        "***Question 8: Write a Python program to capitalize the first letter of each word in a string [dont use built-in-function called title].***"
      ],
      "metadata": {
        "id": "Qzuzcz7Z9N7v"
      }
    },
    {
      "cell_type": "code",
      "source": [
        "str = \"macine learning\"\n",
        "print(str.capitalize())\n"
      ],
      "metadata": {
        "id": "YWlD0cli9v_b",
        "colab": {
          "base_uri": "https://localhost:8080/"
        },
        "outputId": "38bf8489-fb6b-46ff-8026-9496688150de"
      },
      "execution_count": null,
      "outputs": [
        {
          "output_type": "stream",
          "name": "stdout",
          "text": [
            "Macine learning\n"
          ]
        }
      ]
    },
    {
      "cell_type": "markdown",
      "source": [
        "***Question 9: Write a Python program to find the frequency of each character in a string.***"
      ],
      "metadata": {
        "id": "nmeq6Z-A9wew"
      }
    },
    {
      "cell_type": "code",
      "source": [
        "character = \"Python\"\n",
        "empty_dict ={}\n",
        "for i in character:\n",
        "    if i in empty_dict.keys():\n",
        "        empty_dict[i]=empty_dict[i]+1\n",
        "    else:\n",
        "        empty_dict[i]=1\n",
        "print(empty_dict)"
      ],
      "metadata": {
        "colab": {
          "base_uri": "https://localhost:8080/"
        },
        "id": "smZXTroj95_f",
        "outputId": "88d444fa-722a-43fb-f339-b0f93327b762"
      },
      "execution_count": null,
      "outputs": [
        {
          "output_type": "stream",
          "name": "stdout",
          "text": [
            "{'P': 1, 'y': 1, 't': 1, 'h': 1, 'o': 1, 'n': 1}\n"
          ]
        }
      ]
    },
    {
      "cell_type": "markdown",
      "source": [
        "***Question 10: write a python programme to find the sum of all the even characters based on Ascii values.***"
      ],
      "metadata": {
        "id": "_8lsr2Nr-PBO"
      }
    },
    {
      "cell_type": "code",
      "source": [
        "def sum_even_ascii(string):\n",
        "    total_sum = 0\n",
        "     # Iterate through each character in the string\n",
        "    for char in string:\n",
        "        # Get the ASCII value of the character\n",
        "        ascii_value = ord(char)\n",
        "\n",
        "        # Check if the ASCII value is even\n",
        "        if ascii_value % 2 == 0:\n",
        "            # Add the ASCII value to the total sum\n",
        "            total_sum += ascii_value\n",
        "    return total_sum\n",
        "\n",
        "input_string = \"Data science\"\n",
        "result = sum_even_ascii(input_string)\n",
        "print(f\"The sum of all even ASCII values is: {result}\")\n"
      ],
      "metadata": {
        "id": "ZX7852po-dhO",
        "colab": {
          "base_uri": "https://localhost:8080/"
        },
        "outputId": "2e1243ce-5b4e-4b3c-a722-ffd830b26567"
      },
      "execution_count": null,
      "outputs": [
        {
          "output_type": "stream",
          "name": "stdout",
          "text": [
            "The sum of all even ASCII values is: 326\n"
          ]
        }
      ]
    }
  ],
  "metadata": {
    "colab": {
      "provenance": []
    },
    "kernelspec": {
      "display_name": "Python 3",
      "name": "python3"
    },
    "language_info": {
      "name": "python"
    }
  },
  "nbformat": 4,
  "nbformat_minor": 0
}