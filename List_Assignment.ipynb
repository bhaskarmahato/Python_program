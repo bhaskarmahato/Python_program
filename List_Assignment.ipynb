{
  "nbformat": 4,
  "nbformat_minor": 0,
  "metadata": {
    "colab": {
      "provenance": []
    },
    "kernelspec": {
      "name": "python3",
      "display_name": "Python 3"
    },
    "language_info": {
      "name": "python"
    }
  },
  "cells": [
    {
      "cell_type": "markdown",
      "source": [
        "**Question 1: Write a Python program to count the number of elements in a list without using len.**"
      ],
      "metadata": {
        "id": "q6Kvp4IPuIeE"
      }
    },
    {
      "cell_type": "code",
      "source": [
        "a = ['apple','Banana','grapes','mango','pineapple','orange','watermelon']\n",
        "count =0\n",
        "for i in a:\n",
        "    count=count+1\n",
        "print(f'the number of elements in a list:{count}')"
      ],
      "metadata": {
        "colab": {
          "base_uri": "https://localhost:8080/"
        },
        "id": "O0yI9oKvuRJ7",
        "outputId": "e0508fa8-37ec-4509-a3ae-23bf3ef408b9"
      },
      "execution_count": null,
      "outputs": [
        {
          "output_type": "stream",
          "name": "stdout",
          "text": [
            "the number of elements in a list:7\n"
          ]
        }
      ]
    },
    {
      "cell_type": "markdown",
      "source": [
        "***Question 2: Write a Python program to find the maximum and minimum values in a given list.***"
      ],
      "metadata": {
        "id": "S_0Vk-X6vCrX"
      }
    },
    {
      "cell_type": "code",
      "source": [
        "def max_value(a):\n",
        "    max_count=a[0]\n",
        "    for value in a:\n",
        "        if value > max_count:\n",
        "            max_count=value\n",
        "    return max_count\n",
        "\n",
        "def min_value(b):\n",
        "    min_count = b[0]\n",
        "    for values in b:\n",
        "        if values < min_count:\n",
        "            min_count =values\n",
        "    return min_count\n",
        "\n",
        "mylist = [1,2,3,4,8,89,79,56,90,100]\n",
        "\n",
        "print(f'maximun value:{max_value(mylist)}')\n",
        "print(f'minimun value:{min_value(mylist)}')"
      ],
      "metadata": {
        "colab": {
          "base_uri": "https://localhost:8080/"
        },
        "id": "cgz5nTSxvPUi",
        "outputId": "75724d38-0d99-441f-eef8-56c7b062f981"
      },
      "execution_count": null,
      "outputs": [
        {
          "output_type": "stream",
          "name": "stdout",
          "text": [
            "maximun value:100\n",
            "minimun value:1\n"
          ]
        }
      ]
    },
    {
      "cell_type": "markdown",
      "source": [
        "***Question 3: Write a Python program to remove the first occurrence of a specified element from a list.***"
      ],
      "metadata": {
        "id": "PkQuu28Vwj9b"
      }
    },
    {
      "cell_type": "code",
      "source": [
        "a =[11,15,23,45,67,68,3,66,81,9,31]\n",
        "a.remove(67)\n",
        "print(a)"
      ],
      "metadata": {
        "colab": {
          "base_uri": "https://localhost:8080/"
        },
        "id": "xdnAGVG1wvFs",
        "outputId": "5cd9f4bb-71e6-4965-a7a4-4d519c0feab4"
      },
      "execution_count": null,
      "outputs": [
        {
          "output_type": "stream",
          "name": "stdout",
          "text": [
            "[11, 15, 23, 45, 68, 3, 66, 81, 9, 31]\n"
          ]
        }
      ]
    },
    {
      "cell_type": "markdown",
      "source": [
        "***Question 4: Write a Python program to find the average of all the elements in a list.***"
      ],
      "metadata": {
        "id": "v2LpmznrxWes"
      }
    },
    {
      "cell_type": "code",
      "source": [
        "a = [10,20,30,40,50,60,70,80]\n",
        "a = sum(a) / len(a)\n",
        "print(f'find the average of all elements from list: {round(a, 2)}')\n"
      ],
      "metadata": {
        "colab": {
          "base_uri": "https://localhost:8080/"
        },
        "id": "T8TANMGvxfBA",
        "outputId": "ef9fa164-4551-4615-d86b-0925ae1036b9"
      },
      "execution_count": null,
      "outputs": [
        {
          "output_type": "stream",
          "name": "stdout",
          "text": [
            "find the average of all elements from list: 45.0\n"
          ]
        }
      ]
    },
    {
      "cell_type": "markdown",
      "source": [
        "***Question 5: Write a Python program to check if a list is empty or not.***"
      ],
      "metadata": {
        "id": "E_NX9isg2Fzv"
      }
    },
    {
      "cell_type": "code",
      "source": [
        "lst = []\n",
        "if not lst:\n",
        "    print(\"list is empty\")\n",
        "else:\n",
        "    print(\"list is not empty\")"
      ],
      "metadata": {
        "colab": {
          "base_uri": "https://localhost:8080/"
        },
        "id": "IJ10vKUT2R8x",
        "outputId": "364f0222-fd76-4bfe-88c5-b34b207c1d8a"
      },
      "execution_count": null,
      "outputs": [
        {
          "output_type": "stream",
          "name": "stdout",
          "text": [
            "list is empty\n"
          ]
        }
      ]
    },
    {
      "cell_type": "code",
      "source": [
        "lst = [10]\n",
        "if not lst:\n",
        "    print(\"list is empty\")\n",
        "else:\n",
        "    print(\"list is not empty\")"
      ],
      "metadata": {
        "colab": {
          "base_uri": "https://localhost:8080/"
        },
        "id": "ZQBt4XHf25OU",
        "outputId": "3a500f5f-bd06-4e42-b7d4-d4a19459590a"
      },
      "execution_count": null,
      "outputs": [
        {
          "output_type": "stream",
          "name": "stdout",
          "text": [
            "list is not empty\n"
          ]
        }
      ]
    },
    {
      "cell_type": "markdown",
      "source": [
        "***Question 6:  Write a Python program to find the index of a specified element in a list.***"
      ],
      "metadata": {
        "id": "2qKAJr6o3I9W"
      }
    },
    {
      "cell_type": "code",
      "source": [
        "a = [5,23,45,67,45,68,3,6,8,9,31,200,500]\n",
        "print(a.index(200))"
      ],
      "metadata": {
        "colab": {
          "base_uri": "https://localhost:8080/"
        },
        "id": "LMUsvugZ3V7D",
        "outputId": "bb082c96-a70d-4610-cba1-144bf6af4585"
      },
      "execution_count": null,
      "outputs": [
        {
          "output_type": "stream",
          "name": "stdout",
          "text": [
            "11\n"
          ]
        }
      ]
    },
    {
      "cell_type": "markdown",
      "source": [
        "***Question 7: Write a Python program to find which number is palindrome in below given list .***"
      ],
      "metadata": {
        "id": "SmWBZ9ls4NLf"
      }
    },
    {
      "cell_type": "code",
      "source": [
        "\n",
        "a= [134, 121, 155,111]\n",
        "def palindrome(n):\n",
        "    return str(n) == str(n)[::-1]\n",
        "\n",
        "for number in a:\n",
        "    if palindrome(number):\n",
        "        print(f'{number} is a palindrome')\n",
        "    else:\n",
        "        print(f'{number} is not a palindrome')\n"
      ],
      "metadata": {
        "colab": {
          "base_uri": "https://localhost:8080/"
        },
        "id": "2dYmDjG94Y6r",
        "outputId": "07149860-69fb-474a-812f-b90b955c4868"
      },
      "execution_count": null,
      "outputs": [
        {
          "output_type": "stream",
          "name": "stdout",
          "text": [
            "134 is not a palindrome\n",
            "121 is a palindrome\n",
            "155 is not a palindrome\n",
            "111 is a palindrome\n"
          ]
        }
      ]
    },
    {
      "cell_type": "markdown",
      "source": [
        "***Question 8: Write a Python program to find the common elements between two lists.***"
      ],
      "metadata": {
        "id": "ZRrHmPSi7-8i"
      }
    },
    {
      "cell_type": "code",
      "source": [
        "a = [10,23,45,67,51,68,3]\n",
        "b = [68,3,1,2,45,64,10]\n",
        "for i in a:\n",
        "    if i in b:\n",
        "        print(i,end=\" \")"
      ],
      "metadata": {
        "colab": {
          "base_uri": "https://localhost:8080/"
        },
        "id": "oJw6l5db8JE0",
        "outputId": "6995aa90-7642-48da-8175-7bc36763d6c3"
      },
      "execution_count": null,
      "outputs": [
        {
          "output_type": "stream",
          "name": "stdout",
          "text": [
            "10 45 68 3 "
          ]
        }
      ]
    },
    {
      "cell_type": "markdown",
      "source": [
        "***Question 9: Write a Python program to remove the duplicates from a list.***"
      ],
      "metadata": {
        "id": "TwwES_zm8-ba"
      }
    },
    {
      "cell_type": "code",
      "source": [
        "a=[20,4,33,22,33,55,4,20,51]\n",
        "new_values=[]\n",
        "[new_values.append(i) for i in a if i not in new_values]\n",
        "print('duplicates numbers removed from list',new_values)"
      ],
      "metadata": {
        "colab": {
          "base_uri": "https://localhost:8080/"
        },
        "id": "B7m52pZ69CH8",
        "outputId": "09ff7db4-5cc5-44dd-9499-7280f107b0c2"
      },
      "execution_count": null,
      "outputs": [
        {
          "output_type": "stream",
          "name": "stdout",
          "text": [
            "duplicates numbers removed from list [20, 4, 33, 22, 55, 51]\n"
          ]
        }
      ]
    },
    {
      "cell_type": "markdown",
      "source": [
        "***Question 10:  Write a Python program to sort a list of strings in Ascii Order [Ascending order]***"
      ],
      "metadata": {
        "id": "BMsB0sWz91aZ"
      }
    },
    {
      "cell_type": "code",
      "source": [
        "a = [80,70,60,50,40,30,20,10]\n",
        "a.sort()\n",
        "print(a)"
      ],
      "metadata": {
        "colab": {
          "base_uri": "https://localhost:8080/"
        },
        "id": "ENC58yi299qn",
        "outputId": "717967b0-311e-423c-9234-20fd225b26f3"
      },
      "execution_count": null,
      "outputs": [
        {
          "output_type": "stream",
          "name": "stdout",
          "text": [
            "[10, 20, 30, 40, 50, 60, 70, 80]\n"
          ]
        }
      ]
    }
  ]
}